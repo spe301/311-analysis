{
  "nbformat": 4,
  "nbformat_minor": 0,
  "metadata": {
    "colab": {
      "name": "Sparky.ipynb",
      "provenance": [],
      "collapsed_sections": [],
      "mount_file_id": "1JzcH4yKFlof7PMpFBYXYSQIZqrZ21wGI",
      "authorship_tag": "ABX9TyN73niqTSDRP5pHGNBCWhJl",
      "include_colab_link": true
    },
    "kernelspec": {
      "name": "python3",
      "display_name": "Python 3"
    }
  },
  "cells": [
    {
      "cell_type": "markdown",
      "metadata": {
        "id": "view-in-github",
        "colab_type": "text"
      },
      "source": [
        "<a href=\"https://colab.research.google.com/github/spe301/311-analysis/blob/main/Sparky.ipynb\" target=\"_parent\"><img src=\"https://colab.research.google.com/assets/colab-badge.svg\" alt=\"Open In Colab\"/></a>"
      ]
    },
    {
      "cell_type": "code",
      "metadata": {
        "id": "t9EOYAqgyCy-",
        "colab": {
          "base_uri": "https://localhost:8080/"
        },
        "outputId": "60df8f08-3475-4866-8bec-b6ece2cb86e4"
      },
      "source": [
        "!apt-get install openjdk-8-jdk-headless -qq > /dev/null\n",
        "!wget -q https://archive.apache.org/dist/spark/spark-2.4.5/spark-2.4.5-bin-hadoop2.7.tgz\n",
        "!tar xf spark-2.4.5-bin-hadoop2.7.tgz\n",
        "!pip install -q findspark"
      ],
      "execution_count": 1,
      "outputs": [
        {
          "output_type": "stream",
          "text": [
            "E: Failed to fetch http://security.ubuntu.com/ubuntu/pool/universe/o/openjdk-8/openjdk-8-jre-headless_8u282-b08-0ubuntu1~18.04_amd64.deb  404  Not Found [IP: 91.189.88.152 80]\n",
            "E: Failed to fetch http://security.ubuntu.com/ubuntu/pool/universe/o/openjdk-8/openjdk-8-jdk-headless_8u282-b08-0ubuntu1~18.04_amd64.deb  404  Not Found [IP: 91.189.88.152 80]\n",
            "E: Unable to fetch some archives, maybe run apt-get update or try with --fix-missing?\n"
          ],
          "name": "stdout"
        }
      ]
    },
    {
      "cell_type": "code",
      "metadata": {
        "colab": {
          "base_uri": "https://localhost:8080/"
        },
        "id": "fWpmJ4XezMm1",
        "outputId": "1b1c7adc-da5c-46b2-dbf7-2cbf09333cf1"
      },
      "source": [
        "!pip install pyspark==2.4.5"
      ],
      "execution_count": 2,
      "outputs": [
        {
          "output_type": "stream",
          "text": [
            "Collecting pyspark==2.4.5\n",
            "\u001b[?25l  Downloading https://files.pythonhosted.org/packages/9a/5a/271c416c1c2185b6cb0151b29a91fff6fcaed80173c8584ff6d20e46b465/pyspark-2.4.5.tar.gz (217.8MB)\n",
            "\u001b[K     |████████████████████████████████| 217.8MB 64kB/s \n",
            "\u001b[?25hCollecting py4j==0.10.7\n",
            "\u001b[?25l  Downloading https://files.pythonhosted.org/packages/e3/53/c737818eb9a7dc32a7cd4f1396e787bd94200c3997c72c1dbe028587bd76/py4j-0.10.7-py2.py3-none-any.whl (197kB)\n",
            "\u001b[K     |████████████████████████████████| 204kB 37.0MB/s \n",
            "\u001b[?25hBuilding wheels for collected packages: pyspark\n",
            "  Building wheel for pyspark (setup.py) ... \u001b[?25l\u001b[?25hdone\n",
            "  Created wheel for pyspark: filename=pyspark-2.4.5-py2.py3-none-any.whl size=218257928 sha256=859f89427c7e022e6a98e0e9558c005452da4452fd4cfb34029240a9a53f9abd\n",
            "  Stored in directory: /root/.cache/pip/wheels/bf/db/04/61d66a5939364e756eb1c1be4ec5bdce6e04047fc7929a3c3c\n",
            "Successfully built pyspark\n",
            "Installing collected packages: py4j, pyspark\n",
            "Successfully installed py4j-0.10.7 pyspark-2.4.5\n"
          ],
          "name": "stdout"
        }
      ]
    },
    {
      "cell_type": "code",
      "metadata": {
        "colab": {
          "resources": {
            "http://localhost:8080/nbextensions/google.colab/files.js": {
              "data": "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",
              "ok": true,
              "headers": [
                [
                  "content-type",
                  "application/javascript"
                ]
              ],
              "status": 200,
              "status_text": ""
            }
          },
          "base_uri": "https://localhost:8080/",
          "height": 110
        },
        "id": "l1M27pO3piJX",
        "outputId": "54d76a2d-8f90-4739-ba34-18722f52bcfb"
      },
      "source": [
        "from google.colab import files\n",
        "path_to_file = list(files.upload().keys())[0]"
      ],
      "execution_count": 4,
      "outputs": [
        {
          "output_type": "display_data",
          "data": {
            "text/html": [
              "\n",
              "     <input type=\"file\" id=\"files-eb130b8c-670a-4b24-94d4-7a7e7b25c7fc\" name=\"files[]\" multiple disabled\n",
              "        style=\"border:none\" />\n",
              "     <output id=\"result-eb130b8c-670a-4b24-94d4-7a7e7b25c7fc\">\n",
              "      Upload widget is only available when the cell has been executed in the\n",
              "      current browser session. Please rerun this cell to enable.\n",
              "      </output>\n",
              "      <script src=\"/nbextensions/google.colab/files.js\"></script> "
            ],
            "text/plain": [
              "<IPython.core.display.HTML object>"
            ]
          },
          "metadata": {
            "tags": []
          }
        },
        {
          "output_type": "stream",
          "text": [
            "Saving MyLA311_Service_Request_Data_2020.csv to MyLA311_Service_Request_Data_2020.csv\n"
          ],
          "name": "stdout"
        }
      ]
    },
    {
      "cell_type": "code",
      "metadata": {
        "id": "sptWQRO7prkg"
      },
      "source": [
        "from pyspark import SparkContext\n",
        "from pyspark.sql import SparkSession\n",
        "\n",
        "spark = SparkSession.builder.master(\"local\").getOrCreate()"
      ],
      "execution_count": 3,
      "outputs": []
    },
    {
      "cell_type": "code",
      "metadata": {
        "id": "C1SgXFJQrPi_"
      },
      "source": [
        "LA_311 = spark.read.csv('MyLA311_Service_Request_Data_2020.csv', header='true', inferSchema='true')"
      ],
      "execution_count": 5,
      "outputs": []
    },
    {
      "cell_type": "code",
      "metadata": {
        "id": "64NgJpumkcPy"
      },
      "source": [
        "df = (spark\n",
        "  .read                                              \n",
        "  .option(\"inferSchema\",\"true\")                 \n",
        "  .option(\"header\",\"true\")                           \n",
        "  .csv(\"MyLA311_Service_Request_Data_2020.csv\"))"
      ],
      "execution_count": 22,
      "outputs": []
    },
    {
      "cell_type": "code",
      "metadata": {
        "colab": {
          "base_uri": "https://localhost:8080/"
        },
        "id": "ur8BMUUFhqI6",
        "outputId": "40b285c0-1c26-4fb0-bf05-f29246eb554d"
      },
      "source": [
        "LA_311.show()"
      ],
      "execution_count": 16,
      "outputs": [
        {
          "output_type": "stream",
          "text": [
            "+------------+--------------------+--------------------+-----------+-----+--------------------+---------+-------------+-------------------------+--------+---------+--------+--------------------+--------------------+---------------+------------------+--------------------+-----------+---------+-------------+------+-------+-------------+--------------+--------------------+-------+---------+------+--------------------+---+--------------------+---+--------------------+--------------+\n",
            "|    SRNumber|         CreatedDate|         UpdatedDate|ActionTaken|Owner|         RequestType|   Status|RequestSource|CreatedByUserOrganization|MobileOS|Anonymous|AssignTo|         ServiceDate|          ClosedDate|AddressVerified|ApproximateAddress|             Address|HouseNumber|Direction|   StreetName|Suffix|ZipCode|     Latitude|     Longitude|            Location|TBMPage|TBMColumn|TBMRow|                 APC| CD|            CDMember| NC|              NCName|PolicePrecinct|\n",
            "+------------+--------------------+--------------------+-----------+-----+--------------------+---------+-------------+-------------------------+--------+---------+--------+--------------------+--------------------+---------------+------------------+--------------------+-----------+---------+-------------+------+-------+-------------+--------------+--------------------+-------+---------+------+--------------------+---+--------------------+---+--------------------+--------------+\n",
            "|1-1523593381|01/01/2020 12:02:...|01/07/2020 12:19:...| SR Created|  BOS|Illegal Dumping P...|   Closed|         Call|                      BOS|    null|        N|     SLA|01/07/2020 12:00:...|01/07/2020 10:49:...|              Y|                 N|1500 W SLAUSON AV...|       1500|        W|      SLAUSON|   AVE|  90047|  33.98898427|  -118.3026812|(33.988984265, -1...|    673|        J|     5|South Los Angeles...|  8|Marqueece Harris-...| 81|EMPOWERMENT CONGR...|   77TH STREET|\n",
            "|1-1523590121|01/01/2020 12:05:...|01/02/2020 08:43:...| SR Created|  BOS|Illegal Dumping P...|   Closed|         Call|                      BOS|    null|        N|      WV|01/02/2020 12:00:...|01/02/2020 08:43:...|              Y|                 N|16815 W VANOWEN S...|      16815|        W|      VANOWEN|    ST|  91406|  34.19402846|  -118.4994716|(34.1940284578, -...|    531|        D|     6|    South Valley APC|  6|       Nury Martinez| 19|      LAKE BALBOA NC|   WEST VALLEY|\n",
            "|1-1523596201|01/01/2020 12:16:...|01/02/2020 03:13:...| SR Created|  OCB|    Graffiti Removal|   Closed|   Mobile App|             Self Service| Android|        N|    LACC|01/02/2020 12:00:...|01/02/2020 03:13:...|              Y|                 N|1848 W BROWNING B...|       1848|        W|     BROWNING|  BLVD|  90062|  34.01172359|  -118.3127642|(34.0117235893, -...|    673|        H|     2|South Los Angeles...|  8|Marqueece Harris-...| 77|EMPOWERMENT CONGR...|     SOUTHWEST|\n",
            "|1-1523596222|01/01/2020 12:19:...|01/03/2020 07:02:...| SR Created|  BOS|         Bulky Items|   Closed|   Mobile App|             Self Service| Android|        N|      NC|01/03/2020 12:00:...|01/03/2020 07:02:...|              Y|              null|132 S WESTMORELAN...|        132|        S| WESTMORELAND|   AVE|  90004|  34.07243977|  -118.2877979|(34.0724397675, -...|    634|        A|     1|         Central APC| 13|     Mitch O'Farrell| 53|  RAMPART VILLAGE NC|       OLYMPIC|\n",
            "|1-1523591123|01/01/2020 12:21:...|01/03/2020 03:54:...| SR Created|  BOS|Metal/Household A...|   Closed|   Mobile App|             Self Service| Android|        N|      NC|01/03/2020 12:00:...|01/03/2020 03:54:...|              Y|              null|132 S WESTMORELAN...|        132|        S| WESTMORELAND|   AVE|  90004|  34.07243977|  -118.2877979|(34.0724397675, -...|    634|        A|     1|         Central APC| 13|     Mitch O'Farrell| 53|  RAMPART VILLAGE NC|       OLYMPIC|\n",
            "|1-1523593502|01/01/2020 12:23:...|01/02/2020 03:31:...| SR Created|  OCB|    Graffiti Removal|   Closed|   Mobile App|             Self Service| Android|        Y|    CRCD|01/02/2020 12:00:...|01/02/2020 03:31:...|              Y|                 N|704 E 43RD PL, 90011|        704|        E|         43RD|    PL|  90011|  34.00466746|  -118.2633146|(34.0046674586, -...|    674|        D|     3|South Los Angeles...|  9| Curren D. Price Jr.|125|      ZAPATA KING NC|        NEWTON|\n",
            "|1-1523597271|01/01/2020 12:31:...|01/06/2020 03:09:...| SR Created|  BOS|Illegal Dumping P...|   Closed|        Email|                      BOS|    null|        N|      EV|01/06/2020 12:00:...|01/06/2020 03:09:...|              Y|                 N|11390 N ALETHEA D...|      11390|        N|      ALETHEA|    DR|  91040|  34.27391723|   -118.309315|(34.2739172256, -...|    503|        H|     1|    North Valley APC|  7|    Monica Rodriguez| 10|  SUNLAND-TUJUNGA NC|      FOOTHILL|\n",
            "|1-1523593661|01/01/2020 12:38:...|02/14/2020 01:17:...| SR Created|  BOS| Homeless Encampment|   Closed|   Mobile App|             Self Service|     iOS|        N|      NC|01/07/2020 12:00:...|02/14/2020 12:46:...|              Y|              null|345 S GERTRUDE ST...|        345|        S|     GERTRUDE|    ST|  90033|  34.04355075|  -118.2175745|(34.0435507512, -...|    635|        A|     5|East Los Angeles APC| 14|         Jose Huizar| 50|    BOYLE HEIGHTS NC|    HOLLENBECK|\n",
            "|1-1523593741|01/01/2020 12:43:...|01/06/2020 07:49:...| SR Created|  BOS|Illegal Dumping P...|   Closed|        Email|                      BOS|    null|        N|     SLA|01/06/2020 12:00:...|01/06/2020 10:49:...|              Y|                 N|MARTIN LUTHER KIN...|       null|     null|         null|  null|  90008|  34.01598699|  -118.3431787|(34.0159869949, -...|    673|        D|     2|South Los Angeles...| 10|  Herb J. Wesson Jr.| 79|EMPOWERMENT CONGR...|     SOUTHWEST|\n",
            "|1-1523593781|01/01/2020 12:45:...|01/06/2020 02:17:...| SR Created|  BOS|Illegal Dumping P...|   Closed|        Email|                      BOS|    null|        N|     SLA|01/06/2020 12:00:...|01/06/2020 02:17:...|              Y|                 N|MARTIN LUTHER KIN...|       null|     null|         null|  null|  90008|  34.01549357|  -118.3423939|(34.0154935658, -...|    673|        D|     2|South Los Angeles...| 10|  Herb J. Wesson Jr.| 79|EMPOWERMENT CONGR...|     SOUTHWEST|\n",
            "|1-1523593831|01/01/2020 12:49:...|01/06/2020 11:48:...| SR Created|  BOS|Illegal Dumping P...|   Closed|        Email|                      BOS|    null|        N|     SLA|01/06/2020 12:00:...|01/06/2020 10:49:...|              Y|                 N|BUCKINGHAM ROAD A...|       null|     null|         null|  null|      0|  34.01499858|  -118.3416066|(34.0149985801, -...|    673|        D|     2|South Los Angeles...| 10|  Herb J. Wesson Jr.| 79|EMPOWERMENT CONGR...|     SOUTHWEST|\n",
            "|1-1523597491|01/01/2020 12:51:...|01/03/2020 03:51:...| SR Created|  BOS|Illegal Dumping P...|   Closed|         Call|                      BOS|    null|        N|      EV|01/03/2020 12:00:...|01/03/2020 10:18:...|              Y|                 N|SEPULVEDA BLVD AT...|       null|     null|         null|  null|  91411|  34.17936896|  -118.4662164|(34.1793689586, -...|    561|        H|     1|    South Valley APC|  6|       Nury Martinez| 20|         VAN NUYS NC|      VAN NUYS|\n",
            "|1-1523597452|01/01/2020 12:51:...|01/02/2020 04:03:...| SR Created|  ITA|               Other|   Closed|   Mobile App|             Self Service| Android|        N|    null|                null|01/02/2020 04:03:...|              Y|                 N|14162 W DELANO ST...|      14162|        W|       DELANO|    ST|  91401|34.1825198506|-118.442165204|(34.1825198506, -...|    532|        B|     7|    South Valley APC|  6|       Nury Martinez| 20|         VAN NUYS NC|      VAN NUYS|\n",
            "|1-1523597521|01/01/2020 12:53:...|01/02/2020 01:13:...| SR Created|  BOS|    Electronic Waste|Cancelled|         Call|                      BOS|    null|        N|      HB|01/09/2020 12:00:...|01/02/2020 01:13:...|              Y|                 N|18408 S NEW HAMPS...|      18408|        S|NEW HAMPSHIRE|   AVE|  90248|    33.863142|  -118.2917642|(33.8631420037, -...|    764|        B|     2|          Harbor APC| 15|        Joe Buscaino| 91|HARBOR GATEWAY SO...|        HARBOR|\n",
            "|1-1523597601|01/01/2020 12:57:...|01/03/2020 03:20:...| SR Created|  BOS|Metal/Household A...|   Closed| Self Service|             Self Service|    null|        N|      WV|01/03/2020 12:00:...|01/03/2020 03:20:...|              Y|                 N|19630 W VALDEZ DR...|      19630|        W|       VALDEZ|    DR|  91356|  34.15190896|  -118.5603499|(34.1519089581, -...|    560|        F|     4|    South Valley APC|  3|     Bob Blumenfield| 17|          TARZANA NC|   WEST VALLEY|\n",
            "|1-1523594691|01/01/2020 12:59:...|01/03/2020 12:47:...| SR Created|  BOS|         Bulky Items|   Closed| Self Service|             Self Service|    null|        N|      WV|01/03/2020 12:00:...|01/03/2020 12:47:...|              Y|                 N|19630 W VALDEZ DR...|      19630|        W|       VALDEZ|    DR|  91356|  34.15190896|  -118.5603499|(34.1519089581, -...|    560|        F|     4|    South Valley APC|  3|     Bob Blumenfield| 17|          TARZANA NC|   WEST VALLEY|\n",
            "|1-1523593896|01/01/2020 12:59:...|01/09/2020 01:05:...| SR Created|  OCB|    Graffiti Removal|   Closed|   Mobile App|             Self Service| Android|        N|   GAPBH|01/02/2020 01:05:...|01/09/2020 01:05:...|              Y|                 N|637 N ST LOUIS ST...|        637|        N|     ST LOUIS|    ST|  90033|  34.05148298|   -118.209785|(34.0514829827, -...|    635|        A|     4|East Los Angeles APC| 14|         Jose Huizar| 50|    BOYLE HEIGHTS NC|    HOLLENBECK|\n",
            "|1-1523597661|01/01/2020 01:00:...|01/03/2020 11:50:...| SR Created|  ITA|               Other|   Closed|   Mobile App|             Self Service| Android|        Y|    null|                null|01/03/2020 11:50:...|              Y|                 N|7306 N VANALDEN A...|       7306|        N|     VANALDEN|   AVE|  91335|34.2032608669|-118.549048581|(34.2032608669, -...|    530|        G|     4|    South Valley APC|  3|     Bob Blumenfield| 15|           RESEDA NC|   WEST VALLEY|\n",
            "|1-1523597691|01/01/2020 01:01:...|01/03/2020 03:20:...| SR Created|  BOS|Metal/Household A...|   Closed| Self Service|             Self Service|    null|        N|      WV|01/03/2020 12:00:...|01/03/2020 03:20:...|              Y|                 N|19630 W VALDEZ DR...|      19630|        W|       VALDEZ|    DR|  91356|  34.15190896|  -118.5603499|(34.1519089581, -...|    560|        F|     4|    South Valley APC|  3|     Bob Blumenfield| 17|          TARZANA NC|   WEST VALLEY|\n",
            "|1-1523594751|01/01/2020 01:03:...|01/03/2020 07:33:...| SR Created|  BOS|Illegal Dumping P...|   Closed|        Email|                      BOS|    null|        N|      NC|01/03/2020 12:00:...|01/03/2020 07:33:...|              Y|                 N|5222 W HOLLYWOOD ...|       5222|        W|    HOLLYWOOD|  BLVD|  90027|  34.10159891|  -118.3041397|(34.1015989093, -...|    593|        J|     4|         Central APC| 13|     Mitch O'Farrell| 34|   EAST HOLLYWOOD NC|     HOLLYWOOD|\n",
            "+------------+--------------------+--------------------+-----------+-----+--------------------+---------+-------------+-------------------------+--------+---------+--------+--------------------+--------------------+---------------+------------------+--------------------+-----------+---------+-------------+------+-------+-------------+--------------+--------------------+-------+---------+------+--------------------+---+--------------------+---+--------------------+--------------+\n",
            "only showing top 20 rows\n",
            "\n"
          ],
          "name": "stdout"
        }
      ]
    },
    {
      "cell_type": "code",
      "metadata": {
        "id": "xs-ARivfrha6",
        "colab": {
          "base_uri": "https://localhost:8080/"
        },
        "outputId": "d67197eb-0b5c-4f86-eea2-ae38aecddf08"
      },
      "source": [
        "df.show()"
      ],
      "execution_count": 39,
      "outputs": [
        {
          "output_type": "stream",
          "text": [
            "+------------+--------------------+--------------------+-----------+-----+--------------------+---------+-------------+-------------------------+--------+---------+--------+--------------------+--------------------+---------------+------------------+--------------------+-----------+---------+-------------+------+-------+-------------+--------------+--------------------+-------+---------+------+--------------------+---+--------------------+---+--------------------+--------------+\n",
            "|    SRNumber|         CreatedDate|         UpdatedDate|ActionTaken|Owner|         RequestType|   Status|RequestSource|CreatedByUserOrganization|MobileOS|Anonymous|AssignTo|         ServiceDate|          ClosedDate|AddressVerified|ApproximateAddress|             Address|HouseNumber|Direction|   StreetName|Suffix|ZipCode|     Latitude|     Longitude|            Location|TBMPage|TBMColumn|TBMRow|                 APC| CD|            CDMember| NC|              NCName|PolicePrecinct|\n",
            "+------------+--------------------+--------------------+-----------+-----+--------------------+---------+-------------+-------------------------+--------+---------+--------+--------------------+--------------------+---------------+------------------+--------------------+-----------+---------+-------------+------+-------+-------------+--------------+--------------------+-------+---------+------+--------------------+---+--------------------+---+--------------------+--------------+\n",
            "|1-1523593381|01/01/2020 12:02:...|01/07/2020 12:19:...| SR Created|  BOS|Illegal Dumping P...|   Closed|         Call|                      BOS|    null|        N|     SLA|01/07/2020 12:00:...|01/07/2020 10:49:...|              Y|                 N|1500 W SLAUSON AV...|       1500|        W|      SLAUSON|   AVE|  90047|  33.98898427|  -118.3026812|(33.988984265, -1...|    673|        J|     5|South Los Angeles...|  8|Marqueece Harris-...| 81|EMPOWERMENT CONGR...|   77TH STREET|\n",
            "|1-1523590121|01/01/2020 12:05:...|01/02/2020 08:43:...| SR Created|  BOS|Illegal Dumping P...|   Closed|         Call|                      BOS|    null|        N|      WV|01/02/2020 12:00:...|01/02/2020 08:43:...|              Y|                 N|16815 W VANOWEN S...|      16815|        W|      VANOWEN|    ST|  91406|  34.19402846|  -118.4994716|(34.1940284578, -...|    531|        D|     6|    South Valley APC|  6|       Nury Martinez| 19|      LAKE BALBOA NC|   WEST VALLEY|\n",
            "|1-1523596201|01/01/2020 12:16:...|01/02/2020 03:13:...| SR Created|  OCB|    Graffiti Removal|   Closed|   Mobile App|             Self Service| Android|        N|    LACC|01/02/2020 12:00:...|01/02/2020 03:13:...|              Y|                 N|1848 W BROWNING B...|       1848|        W|     BROWNING|  BLVD|  90062|  34.01172359|  -118.3127642|(34.0117235893, -...|    673|        H|     2|South Los Angeles...|  8|Marqueece Harris-...| 77|EMPOWERMENT CONGR...|     SOUTHWEST|\n",
            "|1-1523596222|01/01/2020 12:19:...|01/03/2020 07:02:...| SR Created|  BOS|         Bulky Items|   Closed|   Mobile App|             Self Service| Android|        N|      NC|01/03/2020 12:00:...|01/03/2020 07:02:...|              Y|              null|132 S WESTMORELAN...|        132|        S| WESTMORELAND|   AVE|  90004|  34.07243977|  -118.2877979|(34.0724397675, -...|    634|        A|     1|         Central APC| 13|     Mitch O'Farrell| 53|  RAMPART VILLAGE NC|       OLYMPIC|\n",
            "|1-1523591123|01/01/2020 12:21:...|01/03/2020 03:54:...| SR Created|  BOS|Metal/Household A...|   Closed|   Mobile App|             Self Service| Android|        N|      NC|01/03/2020 12:00:...|01/03/2020 03:54:...|              Y|              null|132 S WESTMORELAN...|        132|        S| WESTMORELAND|   AVE|  90004|  34.07243977|  -118.2877979|(34.0724397675, -...|    634|        A|     1|         Central APC| 13|     Mitch O'Farrell| 53|  RAMPART VILLAGE NC|       OLYMPIC|\n",
            "|1-1523593502|01/01/2020 12:23:...|01/02/2020 03:31:...| SR Created|  OCB|    Graffiti Removal|   Closed|   Mobile App|             Self Service| Android|        Y|    CRCD|01/02/2020 12:00:...|01/02/2020 03:31:...|              Y|                 N|704 E 43RD PL, 90011|        704|        E|         43RD|    PL|  90011|  34.00466746|  -118.2633146|(34.0046674586, -...|    674|        D|     3|South Los Angeles...|  9| Curren D. Price Jr.|125|      ZAPATA KING NC|        NEWTON|\n",
            "|1-1523597271|01/01/2020 12:31:...|01/06/2020 03:09:...| SR Created|  BOS|Illegal Dumping P...|   Closed|        Email|                      BOS|    null|        N|      EV|01/06/2020 12:00:...|01/06/2020 03:09:...|              Y|                 N|11390 N ALETHEA D...|      11390|        N|      ALETHEA|    DR|  91040|  34.27391723|   -118.309315|(34.2739172256, -...|    503|        H|     1|    North Valley APC|  7|    Monica Rodriguez| 10|  SUNLAND-TUJUNGA NC|      FOOTHILL|\n",
            "|1-1523593661|01/01/2020 12:38:...|02/14/2020 01:17:...| SR Created|  BOS| Homeless Encampment|   Closed|   Mobile App|             Self Service|     iOS|        N|      NC|01/07/2020 12:00:...|02/14/2020 12:46:...|              Y|              null|345 S GERTRUDE ST...|        345|        S|     GERTRUDE|    ST|  90033|  34.04355075|  -118.2175745|(34.0435507512, -...|    635|        A|     5|East Los Angeles APC| 14|         Jose Huizar| 50|    BOYLE HEIGHTS NC|    HOLLENBECK|\n",
            "|1-1523593741|01/01/2020 12:43:...|01/06/2020 07:49:...| SR Created|  BOS|Illegal Dumping P...|   Closed|        Email|                      BOS|    null|        N|     SLA|01/06/2020 12:00:...|01/06/2020 10:49:...|              Y|                 N|MARTIN LUTHER KIN...|       null|     null|         null|  null|  90008|  34.01598699|  -118.3431787|(34.0159869949, -...|    673|        D|     2|South Los Angeles...| 10|  Herb J. Wesson Jr.| 79|EMPOWERMENT CONGR...|     SOUTHWEST|\n",
            "|1-1523593781|01/01/2020 12:45:...|01/06/2020 02:17:...| SR Created|  BOS|Illegal Dumping P...|   Closed|        Email|                      BOS|    null|        N|     SLA|01/06/2020 12:00:...|01/06/2020 02:17:...|              Y|                 N|MARTIN LUTHER KIN...|       null|     null|         null|  null|  90008|  34.01549357|  -118.3423939|(34.0154935658, -...|    673|        D|     2|South Los Angeles...| 10|  Herb J. Wesson Jr.| 79|EMPOWERMENT CONGR...|     SOUTHWEST|\n",
            "|1-1523593831|01/01/2020 12:49:...|01/06/2020 11:48:...| SR Created|  BOS|Illegal Dumping P...|   Closed|        Email|                      BOS|    null|        N|     SLA|01/06/2020 12:00:...|01/06/2020 10:49:...|              Y|                 N|BUCKINGHAM ROAD A...|       null|     null|         null|  null|      0|  34.01499858|  -118.3416066|(34.0149985801, -...|    673|        D|     2|South Los Angeles...| 10|  Herb J. Wesson Jr.| 79|EMPOWERMENT CONGR...|     SOUTHWEST|\n",
            "|1-1523597491|01/01/2020 12:51:...|01/03/2020 03:51:...| SR Created|  BOS|Illegal Dumping P...|   Closed|         Call|                      BOS|    null|        N|      EV|01/03/2020 12:00:...|01/03/2020 10:18:...|              Y|                 N|SEPULVEDA BLVD AT...|       null|     null|         null|  null|  91411|  34.17936896|  -118.4662164|(34.1793689586, -...|    561|        H|     1|    South Valley APC|  6|       Nury Martinez| 20|         VAN NUYS NC|      VAN NUYS|\n",
            "|1-1523597452|01/01/2020 12:51:...|01/02/2020 04:03:...| SR Created|  ITA|               Other|   Closed|   Mobile App|             Self Service| Android|        N|    null|                null|01/02/2020 04:03:...|              Y|                 N|14162 W DELANO ST...|      14162|        W|       DELANO|    ST|  91401|34.1825198506|-118.442165204|(34.1825198506, -...|    532|        B|     7|    South Valley APC|  6|       Nury Martinez| 20|         VAN NUYS NC|      VAN NUYS|\n",
            "|1-1523597521|01/01/2020 12:53:...|01/02/2020 01:13:...| SR Created|  BOS|    Electronic Waste|Cancelled|         Call|                      BOS|    null|        N|      HB|01/09/2020 12:00:...|01/02/2020 01:13:...|              Y|                 N|18408 S NEW HAMPS...|      18408|        S|NEW HAMPSHIRE|   AVE|  90248|    33.863142|  -118.2917642|(33.8631420037, -...|    764|        B|     2|          Harbor APC| 15|        Joe Buscaino| 91|HARBOR GATEWAY SO...|        HARBOR|\n",
            "|1-1523597601|01/01/2020 12:57:...|01/03/2020 03:20:...| SR Created|  BOS|Metal/Household A...|   Closed| Self Service|             Self Service|    null|        N|      WV|01/03/2020 12:00:...|01/03/2020 03:20:...|              Y|                 N|19630 W VALDEZ DR...|      19630|        W|       VALDEZ|    DR|  91356|  34.15190896|  -118.5603499|(34.1519089581, -...|    560|        F|     4|    South Valley APC|  3|     Bob Blumenfield| 17|          TARZANA NC|   WEST VALLEY|\n",
            "|1-1523594691|01/01/2020 12:59:...|01/03/2020 12:47:...| SR Created|  BOS|         Bulky Items|   Closed| Self Service|             Self Service|    null|        N|      WV|01/03/2020 12:00:...|01/03/2020 12:47:...|              Y|                 N|19630 W VALDEZ DR...|      19630|        W|       VALDEZ|    DR|  91356|  34.15190896|  -118.5603499|(34.1519089581, -...|    560|        F|     4|    South Valley APC|  3|     Bob Blumenfield| 17|          TARZANA NC|   WEST VALLEY|\n",
            "|1-1523593896|01/01/2020 12:59:...|01/09/2020 01:05:...| SR Created|  OCB|    Graffiti Removal|   Closed|   Mobile App|             Self Service| Android|        N|   GAPBH|01/02/2020 01:05:...|01/09/2020 01:05:...|              Y|                 N|637 N ST LOUIS ST...|        637|        N|     ST LOUIS|    ST|  90033|  34.05148298|   -118.209785|(34.0514829827, -...|    635|        A|     4|East Los Angeles APC| 14|         Jose Huizar| 50|    BOYLE HEIGHTS NC|    HOLLENBECK|\n",
            "|1-1523597661|01/01/2020 01:00:...|01/03/2020 11:50:...| SR Created|  ITA|               Other|   Closed|   Mobile App|             Self Service| Android|        Y|    null|                null|01/03/2020 11:50:...|              Y|                 N|7306 N VANALDEN A...|       7306|        N|     VANALDEN|   AVE|  91335|34.2032608669|-118.549048581|(34.2032608669, -...|    530|        G|     4|    South Valley APC|  3|     Bob Blumenfield| 15|           RESEDA NC|   WEST VALLEY|\n",
            "|1-1523597691|01/01/2020 01:01:...|01/03/2020 03:20:...| SR Created|  BOS|Metal/Household A...|   Closed| Self Service|             Self Service|    null|        N|      WV|01/03/2020 12:00:...|01/03/2020 03:20:...|              Y|                 N|19630 W VALDEZ DR...|      19630|        W|       VALDEZ|    DR|  91356|  34.15190896|  -118.5603499|(34.1519089581, -...|    560|        F|     4|    South Valley APC|  3|     Bob Blumenfield| 17|          TARZANA NC|   WEST VALLEY|\n",
            "|1-1523594751|01/01/2020 01:03:...|01/03/2020 07:33:...| SR Created|  BOS|Illegal Dumping P...|   Closed|        Email|                      BOS|    null|        N|      NC|01/03/2020 12:00:...|01/03/2020 07:33:...|              Y|                 N|5222 W HOLLYWOOD ...|       5222|        W|    HOLLYWOOD|  BLVD|  90027|  34.10159891|  -118.3041397|(34.1015989093, -...|    593|        J|     4|         Central APC| 13|     Mitch O'Farrell| 34|   EAST HOLLYWOOD NC|     HOLLYWOOD|\n",
            "+------------+--------------------+--------------------+-----------+-----+--------------------+---------+-------------+-------------------------+--------+---------+--------+--------------------+--------------------+---------------+------------------+--------------------+-----------+---------+-------------+------+-------+-------------+--------------+--------------------+-------+---------+------+--------------------+---+--------------------+---+--------------------+--------------+\n",
            "only showing top 20 rows\n",
            "\n"
          ],
          "name": "stdout"
        }
      ]
    },
    {
      "cell_type": "code",
      "metadata": {
        "id": "7HQXlC7vpKD3"
      },
      "source": [
        "from pyspark.sql import SparkSession\n",
        "\n",
        "spark = SparkSession.builder.appName('311').getOrCreate()"
      ],
      "execution_count": 40,
      "outputs": []
    },
    {
      "cell_type": "code",
      "metadata": {
        "colab": {
          "base_uri": "https://localhost:8080/",
          "height": 214
        },
        "id": "8_b1kI-lqTNa",
        "outputId": "5d921c4b-e12d-4a52-892d-60ad25163322"
      },
      "source": [
        "spark"
      ],
      "execution_count": 41,
      "outputs": [
        {
          "output_type": "execute_result",
          "data": {
            "text/html": [
              "\n",
              "            <div>\n",
              "                <p><b>SparkSession - in-memory</b></p>\n",
              "                \n",
              "        <div>\n",
              "            <p><b>SparkContext</b></p>\n",
              "\n",
              "            <p><a href=\"http://5c40479d7d41:4040\">Spark UI</a></p>\n",
              "\n",
              "            <dl>\n",
              "              <dt>Version</dt>\n",
              "                <dd><code>v2.4.5</code></dd>\n",
              "              <dt>Master</dt>\n",
              "                <dd><code>local</code></dd>\n",
              "              <dt>AppName</dt>\n",
              "                <dd><code>pyspark-shell</code></dd>\n",
              "            </dl>\n",
              "        </div>\n",
              "        \n",
              "            </div>\n",
              "        "
            ],
            "text/plain": [
              "<pyspark.sql.session.SparkSession at 0x7f7690e49490>"
            ]
          },
          "metadata": {
            "tags": []
          },
          "execution_count": 41
        }
      ]
    },
    {
      "cell_type": "code",
      "metadata": {
        "colab": {
          "base_uri": "https://localhost:8080/"
        },
        "id": "QA18S1syqUiy",
        "outputId": "f51f23ba-9417-4166-ce85-988aae447b06"
      },
      "source": [
        "df.show()"
      ],
      "execution_count": 43,
      "outputs": [
        {
          "output_type": "stream",
          "text": [
            "+------------+--------------------+--------------------+-----------+-----+--------------------+---------+-------------+-------------------------+--------+---------+--------+--------------------+--------------------+---------------+------------------+--------------------+-----------+---------+-------------+------+-------+-------------+--------------+--------------------+-------+---------+------+--------------------+---+--------------------+---+--------------------+--------------+\n",
            "|    SRNumber|         CreatedDate|         UpdatedDate|ActionTaken|Owner|         RequestType|   Status|RequestSource|CreatedByUserOrganization|MobileOS|Anonymous|AssignTo|         ServiceDate|          ClosedDate|AddressVerified|ApproximateAddress|             Address|HouseNumber|Direction|   StreetName|Suffix|ZipCode|     Latitude|     Longitude|            Location|TBMPage|TBMColumn|TBMRow|                 APC| CD|            CDMember| NC|              NCName|PolicePrecinct|\n",
            "+------------+--------------------+--------------------+-----------+-----+--------------------+---------+-------------+-------------------------+--------+---------+--------+--------------------+--------------------+---------------+------------------+--------------------+-----------+---------+-------------+------+-------+-------------+--------------+--------------------+-------+---------+------+--------------------+---+--------------------+---+--------------------+--------------+\n",
            "|1-1523593381|01/01/2020 12:02:...|01/07/2020 12:19:...| SR Created|  BOS|Illegal Dumping P...|   Closed|         Call|                      BOS|    null|        N|     SLA|01/07/2020 12:00:...|01/07/2020 10:49:...|              Y|                 N|1500 W SLAUSON AV...|       1500|        W|      SLAUSON|   AVE|  90047|  33.98898427|  -118.3026812|(33.988984265, -1...|    673|        J|     5|South Los Angeles...|  8|Marqueece Harris-...| 81|EMPOWERMENT CONGR...|   77TH STREET|\n",
            "|1-1523590121|01/01/2020 12:05:...|01/02/2020 08:43:...| SR Created|  BOS|Illegal Dumping P...|   Closed|         Call|                      BOS|    null|        N|      WV|01/02/2020 12:00:...|01/02/2020 08:43:...|              Y|                 N|16815 W VANOWEN S...|      16815|        W|      VANOWEN|    ST|  91406|  34.19402846|  -118.4994716|(34.1940284578, -...|    531|        D|     6|    South Valley APC|  6|       Nury Martinez| 19|      LAKE BALBOA NC|   WEST VALLEY|\n",
            "|1-1523596201|01/01/2020 12:16:...|01/02/2020 03:13:...| SR Created|  OCB|    Graffiti Removal|   Closed|   Mobile App|             Self Service| Android|        N|    LACC|01/02/2020 12:00:...|01/02/2020 03:13:...|              Y|                 N|1848 W BROWNING B...|       1848|        W|     BROWNING|  BLVD|  90062|  34.01172359|  -118.3127642|(34.0117235893, -...|    673|        H|     2|South Los Angeles...|  8|Marqueece Harris-...| 77|EMPOWERMENT CONGR...|     SOUTHWEST|\n",
            "|1-1523596222|01/01/2020 12:19:...|01/03/2020 07:02:...| SR Created|  BOS|         Bulky Items|   Closed|   Mobile App|             Self Service| Android|        N|      NC|01/03/2020 12:00:...|01/03/2020 07:02:...|              Y|              null|132 S WESTMORELAN...|        132|        S| WESTMORELAND|   AVE|  90004|  34.07243977|  -118.2877979|(34.0724397675, -...|    634|        A|     1|         Central APC| 13|     Mitch O'Farrell| 53|  RAMPART VILLAGE NC|       OLYMPIC|\n",
            "|1-1523591123|01/01/2020 12:21:...|01/03/2020 03:54:...| SR Created|  BOS|Metal/Household A...|   Closed|   Mobile App|             Self Service| Android|        N|      NC|01/03/2020 12:00:...|01/03/2020 03:54:...|              Y|              null|132 S WESTMORELAN...|        132|        S| WESTMORELAND|   AVE|  90004|  34.07243977|  -118.2877979|(34.0724397675, -...|    634|        A|     1|         Central APC| 13|     Mitch O'Farrell| 53|  RAMPART VILLAGE NC|       OLYMPIC|\n",
            "|1-1523593502|01/01/2020 12:23:...|01/02/2020 03:31:...| SR Created|  OCB|    Graffiti Removal|   Closed|   Mobile App|             Self Service| Android|        Y|    CRCD|01/02/2020 12:00:...|01/02/2020 03:31:...|              Y|                 N|704 E 43RD PL, 90011|        704|        E|         43RD|    PL|  90011|  34.00466746|  -118.2633146|(34.0046674586, -...|    674|        D|     3|South Los Angeles...|  9| Curren D. Price Jr.|125|      ZAPATA KING NC|        NEWTON|\n",
            "|1-1523597271|01/01/2020 12:31:...|01/06/2020 03:09:...| SR Created|  BOS|Illegal Dumping P...|   Closed|        Email|                      BOS|    null|        N|      EV|01/06/2020 12:00:...|01/06/2020 03:09:...|              Y|                 N|11390 N ALETHEA D...|      11390|        N|      ALETHEA|    DR|  91040|  34.27391723|   -118.309315|(34.2739172256, -...|    503|        H|     1|    North Valley APC|  7|    Monica Rodriguez| 10|  SUNLAND-TUJUNGA NC|      FOOTHILL|\n",
            "|1-1523593661|01/01/2020 12:38:...|02/14/2020 01:17:...| SR Created|  BOS| Homeless Encampment|   Closed|   Mobile App|             Self Service|     iOS|        N|      NC|01/07/2020 12:00:...|02/14/2020 12:46:...|              Y|              null|345 S GERTRUDE ST...|        345|        S|     GERTRUDE|    ST|  90033|  34.04355075|  -118.2175745|(34.0435507512, -...|    635|        A|     5|East Los Angeles APC| 14|         Jose Huizar| 50|    BOYLE HEIGHTS NC|    HOLLENBECK|\n",
            "|1-1523593741|01/01/2020 12:43:...|01/06/2020 07:49:...| SR Created|  BOS|Illegal Dumping P...|   Closed|        Email|                      BOS|    null|        N|     SLA|01/06/2020 12:00:...|01/06/2020 10:49:...|              Y|                 N|MARTIN LUTHER KIN...|       null|     null|         null|  null|  90008|  34.01598699|  -118.3431787|(34.0159869949, -...|    673|        D|     2|South Los Angeles...| 10|  Herb J. Wesson Jr.| 79|EMPOWERMENT CONGR...|     SOUTHWEST|\n",
            "|1-1523593781|01/01/2020 12:45:...|01/06/2020 02:17:...| SR Created|  BOS|Illegal Dumping P...|   Closed|        Email|                      BOS|    null|        N|     SLA|01/06/2020 12:00:...|01/06/2020 02:17:...|              Y|                 N|MARTIN LUTHER KIN...|       null|     null|         null|  null|  90008|  34.01549357|  -118.3423939|(34.0154935658, -...|    673|        D|     2|South Los Angeles...| 10|  Herb J. Wesson Jr.| 79|EMPOWERMENT CONGR...|     SOUTHWEST|\n",
            "|1-1523593831|01/01/2020 12:49:...|01/06/2020 11:48:...| SR Created|  BOS|Illegal Dumping P...|   Closed|        Email|                      BOS|    null|        N|     SLA|01/06/2020 12:00:...|01/06/2020 10:49:...|              Y|                 N|BUCKINGHAM ROAD A...|       null|     null|         null|  null|      0|  34.01499858|  -118.3416066|(34.0149985801, -...|    673|        D|     2|South Los Angeles...| 10|  Herb J. Wesson Jr.| 79|EMPOWERMENT CONGR...|     SOUTHWEST|\n",
            "|1-1523597491|01/01/2020 12:51:...|01/03/2020 03:51:...| SR Created|  BOS|Illegal Dumping P...|   Closed|         Call|                      BOS|    null|        N|      EV|01/03/2020 12:00:...|01/03/2020 10:18:...|              Y|                 N|SEPULVEDA BLVD AT...|       null|     null|         null|  null|  91411|  34.17936896|  -118.4662164|(34.1793689586, -...|    561|        H|     1|    South Valley APC|  6|       Nury Martinez| 20|         VAN NUYS NC|      VAN NUYS|\n",
            "|1-1523597452|01/01/2020 12:51:...|01/02/2020 04:03:...| SR Created|  ITA|               Other|   Closed|   Mobile App|             Self Service| Android|        N|    null|                null|01/02/2020 04:03:...|              Y|                 N|14162 W DELANO ST...|      14162|        W|       DELANO|    ST|  91401|34.1825198506|-118.442165204|(34.1825198506, -...|    532|        B|     7|    South Valley APC|  6|       Nury Martinez| 20|         VAN NUYS NC|      VAN NUYS|\n",
            "|1-1523597521|01/01/2020 12:53:...|01/02/2020 01:13:...| SR Created|  BOS|    Electronic Waste|Cancelled|         Call|                      BOS|    null|        N|      HB|01/09/2020 12:00:...|01/02/2020 01:13:...|              Y|                 N|18408 S NEW HAMPS...|      18408|        S|NEW HAMPSHIRE|   AVE|  90248|    33.863142|  -118.2917642|(33.8631420037, -...|    764|        B|     2|          Harbor APC| 15|        Joe Buscaino| 91|HARBOR GATEWAY SO...|        HARBOR|\n",
            "|1-1523597601|01/01/2020 12:57:...|01/03/2020 03:20:...| SR Created|  BOS|Metal/Household A...|   Closed| Self Service|             Self Service|    null|        N|      WV|01/03/2020 12:00:...|01/03/2020 03:20:...|              Y|                 N|19630 W VALDEZ DR...|      19630|        W|       VALDEZ|    DR|  91356|  34.15190896|  -118.5603499|(34.1519089581, -...|    560|        F|     4|    South Valley APC|  3|     Bob Blumenfield| 17|          TARZANA NC|   WEST VALLEY|\n",
            "|1-1523594691|01/01/2020 12:59:...|01/03/2020 12:47:...| SR Created|  BOS|         Bulky Items|   Closed| Self Service|             Self Service|    null|        N|      WV|01/03/2020 12:00:...|01/03/2020 12:47:...|              Y|                 N|19630 W VALDEZ DR...|      19630|        W|       VALDEZ|    DR|  91356|  34.15190896|  -118.5603499|(34.1519089581, -...|    560|        F|     4|    South Valley APC|  3|     Bob Blumenfield| 17|          TARZANA NC|   WEST VALLEY|\n",
            "|1-1523593896|01/01/2020 12:59:...|01/09/2020 01:05:...| SR Created|  OCB|    Graffiti Removal|   Closed|   Mobile App|             Self Service| Android|        N|   GAPBH|01/02/2020 01:05:...|01/09/2020 01:05:...|              Y|                 N|637 N ST LOUIS ST...|        637|        N|     ST LOUIS|    ST|  90033|  34.05148298|   -118.209785|(34.0514829827, -...|    635|        A|     4|East Los Angeles APC| 14|         Jose Huizar| 50|    BOYLE HEIGHTS NC|    HOLLENBECK|\n",
            "|1-1523597661|01/01/2020 01:00:...|01/03/2020 11:50:...| SR Created|  ITA|               Other|   Closed|   Mobile App|             Self Service| Android|        Y|    null|                null|01/03/2020 11:50:...|              Y|                 N|7306 N VANALDEN A...|       7306|        N|     VANALDEN|   AVE|  91335|34.2032608669|-118.549048581|(34.2032608669, -...|    530|        G|     4|    South Valley APC|  3|     Bob Blumenfield| 15|           RESEDA NC|   WEST VALLEY|\n",
            "|1-1523597691|01/01/2020 01:01:...|01/03/2020 03:20:...| SR Created|  BOS|Metal/Household A...|   Closed| Self Service|             Self Service|    null|        N|      WV|01/03/2020 12:00:...|01/03/2020 03:20:...|              Y|                 N|19630 W VALDEZ DR...|      19630|        W|       VALDEZ|    DR|  91356|  34.15190896|  -118.5603499|(34.1519089581, -...|    560|        F|     4|    South Valley APC|  3|     Bob Blumenfield| 17|          TARZANA NC|   WEST VALLEY|\n",
            "|1-1523594751|01/01/2020 01:03:...|01/03/2020 07:33:...| SR Created|  BOS|Illegal Dumping P...|   Closed|        Email|                      BOS|    null|        N|      NC|01/03/2020 12:00:...|01/03/2020 07:33:...|              Y|                 N|5222 W HOLLYWOOD ...|       5222|        W|    HOLLYWOOD|  BLVD|  90027|  34.10159891|  -118.3041397|(34.1015989093, -...|    593|        J|     4|         Central APC| 13|     Mitch O'Farrell| 34|   EAST HOLLYWOOD NC|     HOLLYWOOD|\n",
            "+------------+--------------------+--------------------+-----------+-----+--------------------+---------+-------------+-------------------------+--------+---------+--------+--------------------+--------------------+---------------+------------------+--------------------+-----------+---------+-------------+------+-------+-------------+--------------+--------------------+-------+---------+------+--------------------+---+--------------------+---+--------------------+--------------+\n",
            "only showing top 20 rows\n",
            "\n"
          ],
          "name": "stdout"
        }
      ]
    },
    {
      "cell_type": "code",
      "metadata": {
        "colab": {
          "base_uri": "https://localhost:8080/"
        },
        "id": "qqKX9dRCq3NY",
        "outputId": "7c294006-77e2-4b6c-c24d-3002b596c255"
      },
      "source": [
        "df.printSchema()"
      ],
      "execution_count": 44,
      "outputs": [
        {
          "output_type": "stream",
          "text": [
            "root\n",
            " |-- SRNumber: string (nullable = true)\n",
            " |-- CreatedDate: string (nullable = true)\n",
            " |-- UpdatedDate: string (nullable = true)\n",
            " |-- ActionTaken: string (nullable = true)\n",
            " |-- Owner: string (nullable = true)\n",
            " |-- RequestType: string (nullable = true)\n",
            " |-- Status: string (nullable = true)\n",
            " |-- RequestSource: string (nullable = true)\n",
            " |-- CreatedByUserOrganization: string (nullable = true)\n",
            " |-- MobileOS: string (nullable = true)\n",
            " |-- Anonymous: string (nullable = true)\n",
            " |-- AssignTo: string (nullable = true)\n",
            " |-- ServiceDate: string (nullable = true)\n",
            " |-- ClosedDate: string (nullable = true)\n",
            " |-- AddressVerified: string (nullable = true)\n",
            " |-- ApproximateAddress: string (nullable = true)\n",
            " |-- Address: string (nullable = true)\n",
            " |-- HouseNumber: integer (nullable = true)\n",
            " |-- Direction: string (nullable = true)\n",
            " |-- StreetName: string (nullable = true)\n",
            " |-- Suffix: string (nullable = true)\n",
            " |-- ZipCode: string (nullable = true)\n",
            " |-- Latitude: double (nullable = true)\n",
            " |-- Longitude: double (nullable = true)\n",
            " |-- Location: string (nullable = true)\n",
            " |-- TBMPage: integer (nullable = true)\n",
            " |-- TBMColumn: string (nullable = true)\n",
            " |-- TBMRow: integer (nullable = true)\n",
            " |-- APC: string (nullable = true)\n",
            " |-- CD: integer (nullable = true)\n",
            " |-- CDMember: string (nullable = true)\n",
            " |-- NC: integer (nullable = true)\n",
            " |-- NCName: string (nullable = true)\n",
            " |-- PolicePrecinct: string (nullable = true)\n",
            "\n"
          ],
          "name": "stdout"
        }
      ]
    },
    {
      "cell_type": "code",
      "metadata": {
        "colab": {
          "base_uri": "https://localhost:8080/"
        },
        "id": "Wpk_Xsr6q_7M",
        "outputId": "e140fb9a-b888-4ad2-dbe1-38bd61a52ac6"
      },
      "source": [
        "df.selectExpr(\"count(distinct(RequestType))\").show()"
      ],
      "execution_count": 46,
      "outputs": [
        {
          "output_type": "stream",
          "text": [
            "+---------------------------+\n",
            "|count(DISTINCT RequestType)|\n",
            "+---------------------------+\n",
            "|                         12|\n",
            "+---------------------------+\n",
            "\n"
          ],
          "name": "stdout"
        }
      ]
    },
    {
      "cell_type": "code",
      "metadata": {
        "id": "pCruqIRusNJs"
      },
      "source": [
        "import pyspark.sql.functions as F"
      ],
      "execution_count": 47,
      "outputs": []
    },
    {
      "cell_type": "code",
      "metadata": {
        "colab": {
          "base_uri": "https://localhost:8080/"
        },
        "id": "-iweRdRbtKi2",
        "outputId": "ef255504-8c12-4ce1-8b17-070e2024884d"
      },
      "source": [
        "df.select(\"RequestType\").show(1)"
      ],
      "execution_count": 49,
      "outputs": [
        {
          "output_type": "stream",
          "text": [
            "+--------------------+\n",
            "|         RequestType|\n",
            "+--------------------+\n",
            "|Illegal Dumping P...|\n",
            "+--------------------+\n",
            "only showing top 1 row\n",
            "\n"
          ],
          "name": "stdout"
        }
      ]
    },
    {
      "cell_type": "code",
      "metadata": {
        "colab": {
          "base_uri": "https://localhost:8080/"
        },
        "id": "ueVT5UzOtSGR",
        "outputId": "d63b8490-bcad-4902-c065-64ac52608ecd"
      },
      "source": [
        "df.select(F.col(\"RequestType\")).show(1)"
      ],
      "execution_count": 51,
      "outputs": [
        {
          "output_type": "stream",
          "text": [
            "+--------------------+\n",
            "|         RequestType|\n",
            "+--------------------+\n",
            "|Illegal Dumping P...|\n",
            "+--------------------+\n",
            "only showing top 1 row\n",
            "\n"
          ],
          "name": "stdout"
        }
      ]
    },
    {
      "cell_type": "code",
      "metadata": {
        "colab": {
          "base_uri": "https://localhost:8080/"
        },
        "id": "F-Dka71FtkFr",
        "outputId": "0e00576a-2959-4a99-d8cf-5a1d9049eba9"
      },
      "source": [
        "df.select(F.expr(\"RequestType\").alias('RT')).show(5)"
      ],
      "execution_count": 53,
      "outputs": [
        {
          "output_type": "stream",
          "text": [
            "+--------------------+\n",
            "|                  RT|\n",
            "+--------------------+\n",
            "|Illegal Dumping P...|\n",
            "|Illegal Dumping P...|\n",
            "|    Graffiti Removal|\n",
            "|         Bulky Items|\n",
            "|Metal/Household A...|\n",
            "+--------------------+\n",
            "only showing top 5 rows\n",
            "\n"
          ],
          "name": "stdout"
        }
      ]
    },
    {
      "cell_type": "code",
      "metadata": {
        "id": "Vq0hDqQFuXp3"
      },
      "source": [
        ""
      ],
      "execution_count": null,
      "outputs": []
    }
  ]
}