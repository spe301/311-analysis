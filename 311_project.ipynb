{
  "nbformat": 4,
  "nbformat_minor": 0,
  "metadata": {
    "colab": {
      "name": "311_project.ipynb",
      "provenance": [],
      "collapsed_sections": [],
      "mount_file_id": "1JzcH4yKFlof7PMpFBYXYSQIZqrZ21wGI",
      "authorship_tag": "ABX9TyPsCijvdaL4eXWwlw9qmAZu",
      "include_colab_link": true
    },
    "kernelspec": {
      "name": "python3",
      "display_name": "Python 3"
    }
  },
  "cells": [
    {
      "cell_type": "markdown",
      "metadata": {
        "id": "view-in-github",
        "colab_type": "text"
      },
      "source": [
        "<a href=\"https://colab.research.google.com/github/spe301/311-analysis/blob/main/311_project.ipynb\" target=\"_parent\"><img src=\"https://colab.research.google.com/assets/colab-badge.svg\" alt=\"Open In Colab\"/></a>"
      ]
    },
    {
      "cell_type": "code",
      "metadata": {
        "colab": {
          "resources": {
            "http://localhost:8080/nbextensions/google.colab/files.js": {
              "data": "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",
              "ok": true,
              "headers": [
                [
                  "content-type",
                  "application/javascript"
                ]
              ],
              "status": 200,
              "status_text": ""
            }
          },
          "base_uri": "https://localhost:8080/",
          "height": 73
        },
        "id": "l1M27pO3piJX",
        "outputId": "2099cd69-51bb-4b07-a836-99fabecbb75e"
      },
      "source": [
        "from google.colab import files\n",
        "path_to_file = list(files.upload().keys())[0]"
      ],
      "execution_count": 1,
      "outputs": [
        {
          "output_type": "display_data",
          "data": {
            "text/html": [
              "\n",
              "     <input type=\"file\" id=\"files-d5db6183-d9aa-4d23-86cd-955e2eeb5888\" name=\"files[]\" multiple disabled\n",
              "        style=\"border:none\" />\n",
              "     <output id=\"result-d5db6183-d9aa-4d23-86cd-955e2eeb5888\">\n",
              "      Upload widget is only available when the cell has been executed in the\n",
              "      current browser session. Please rerun this cell to enable.\n",
              "      </output>\n",
              "      <script src=\"/nbextensions/google.colab/files.js\"></script> "
            ],
            "text/plain": [
              "<IPython.core.display.HTML object>"
            ]
          },
          "metadata": {
            "tags": []
          }
        },
        {
          "output_type": "stream",
          "text": [
            "Saving MyLA311_Service_Request_Data_2020.csv to MyLA311_Service_Request_Data_2020.csv\n"
          ],
          "name": "stdout"
        }
      ]
    },
    {
      "cell_type": "markdown",
      "metadata": {
        "id": "amIErBv20vsO"
      },
      "source": [
        "# EDA\n",
        "\n",
        "1. What is the most common Request Type for each Request Source, as well as overall?\n",
        "\n",
        "2. Map out the Homeless Encampment removal requests and look for a pattern, are they less concentrated in the San Fernando Valley and Bel Aire / Beverly Crest than the rest of LA?\n",
        "\n",
        "3. Show us the percentage breakdown of Request Types overall, do this again for Requests that took place within 1/2 mile radius of a school and see if there's any noticeable difference. Also check if the percentage of Anonomys requests is any different.\n",
        "\n",
        "4. What neighborhood council has the highest number of requests in total, What is the percentage breakdown for request source here?"
      ]
    },
    {
      "cell_type": "code",
      "metadata": {
        "id": "5xFI6XkJ0wij"
      },
      "source": [
        "import pandas as pd\n",
        "import numpy as np\n",
        "import seaborn as sns\n",
        "from matplotlib import pyplot as plt"
      ],
      "execution_count": 10,
      "outputs": []
    },
    {
      "cell_type": "code",
      "metadata": {
        "colab": {
          "base_uri": "https://localhost:8080/",
          "height": 450
        },
        "id": "j56sXJSD1B9z",
        "outputId": "017cdd2e-9949-49df-b10e-c743c6b9b46e"
      },
      "source": [
        "df = pd.read_csv('MyLA311_Service_Request_Data_2020.csv')\n",
        "df.head()"
      ],
      "execution_count": 3,
      "outputs": [
        {
          "output_type": "stream",
          "text": [
            "/usr/local/lib/python3.7/dist-packages/IPython/core/interactiveshell.py:2718: DtypeWarning: Columns (21) have mixed types.Specify dtype option on import or set low_memory=False.\n",
            "  interactivity=interactivity, compiler=compiler, result=result)\n"
          ],
          "name": "stderr"
        },
        {
          "output_type": "execute_result",
          "data": {
            "text/html": [
              "<div>\n",
              "<style scoped>\n",
              "    .dataframe tbody tr th:only-of-type {\n",
              "        vertical-align: middle;\n",
              "    }\n",
              "\n",
              "    .dataframe tbody tr th {\n",
              "        vertical-align: top;\n",
              "    }\n",
              "\n",
              "    .dataframe thead th {\n",
              "        text-align: right;\n",
              "    }\n",
              "</style>\n",
              "<table border=\"1\" class=\"dataframe\">\n",
              "  <thead>\n",
              "    <tr style=\"text-align: right;\">\n",
              "      <th></th>\n",
              "      <th>SRNumber</th>\n",
              "      <th>CreatedDate</th>\n",
              "      <th>UpdatedDate</th>\n",
              "      <th>ActionTaken</th>\n",
              "      <th>Owner</th>\n",
              "      <th>RequestType</th>\n",
              "      <th>Status</th>\n",
              "      <th>RequestSource</th>\n",
              "      <th>CreatedByUserOrganization</th>\n",
              "      <th>MobileOS</th>\n",
              "      <th>Anonymous</th>\n",
              "      <th>AssignTo</th>\n",
              "      <th>ServiceDate</th>\n",
              "      <th>ClosedDate</th>\n",
              "      <th>AddressVerified</th>\n",
              "      <th>ApproximateAddress</th>\n",
              "      <th>Address</th>\n",
              "      <th>HouseNumber</th>\n",
              "      <th>Direction</th>\n",
              "      <th>StreetName</th>\n",
              "      <th>Suffix</th>\n",
              "      <th>ZipCode</th>\n",
              "      <th>Latitude</th>\n",
              "      <th>Longitude</th>\n",
              "      <th>Location</th>\n",
              "      <th>TBMPage</th>\n",
              "      <th>TBMColumn</th>\n",
              "      <th>TBMRow</th>\n",
              "      <th>APC</th>\n",
              "      <th>CD</th>\n",
              "      <th>CDMember</th>\n",
              "      <th>NC</th>\n",
              "      <th>NCName</th>\n",
              "      <th>PolicePrecinct</th>\n",
              "    </tr>\n",
              "  </thead>\n",
              "  <tbody>\n",
              "    <tr>\n",
              "      <th>0</th>\n",
              "      <td>1-1523593381</td>\n",
              "      <td>01/01/2020 12:02:00 AM</td>\n",
              "      <td>01/07/2020 12:19:00 PM</td>\n",
              "      <td>SR Created</td>\n",
              "      <td>BOS</td>\n",
              "      <td>Illegal Dumping Pickup</td>\n",
              "      <td>Closed</td>\n",
              "      <td>Call</td>\n",
              "      <td>BOS</td>\n",
              "      <td>NaN</td>\n",
              "      <td>N</td>\n",
              "      <td>SLA</td>\n",
              "      <td>01/07/2020 12:00:00 AM</td>\n",
              "      <td>01/07/2020 10:49:00 AM</td>\n",
              "      <td>Y</td>\n",
              "      <td>N</td>\n",
              "      <td>1500 W SLAUSON AVE, 90047</td>\n",
              "      <td>1500.0</td>\n",
              "      <td>W</td>\n",
              "      <td>SLAUSON</td>\n",
              "      <td>AVE</td>\n",
              "      <td>90047</td>\n",
              "      <td>33.988984</td>\n",
              "      <td>-118.302681</td>\n",
              "      <td>(33.988984265, -118.302681205)</td>\n",
              "      <td>673.0</td>\n",
              "      <td>J</td>\n",
              "      <td>5.0</td>\n",
              "      <td>South Los Angeles APC</td>\n",
              "      <td>8.0</td>\n",
              "      <td>Marqueece Harris-Dawson</td>\n",
              "      <td>81.0</td>\n",
              "      <td>EMPOWERMENT CONGRESS CENTRAL AREA NDC</td>\n",
              "      <td>77TH STREET</td>\n",
              "    </tr>\n",
              "    <tr>\n",
              "      <th>1</th>\n",
              "      <td>1-1523590121</td>\n",
              "      <td>01/01/2020 12:05:00 AM</td>\n",
              "      <td>01/02/2020 08:43:00 AM</td>\n",
              "      <td>SR Created</td>\n",
              "      <td>BOS</td>\n",
              "      <td>Illegal Dumping Pickup</td>\n",
              "      <td>Closed</td>\n",
              "      <td>Call</td>\n",
              "      <td>BOS</td>\n",
              "      <td>NaN</td>\n",
              "      <td>N</td>\n",
              "      <td>WV</td>\n",
              "      <td>01/02/2020 12:00:00 AM</td>\n",
              "      <td>01/02/2020 08:43:00 AM</td>\n",
              "      <td>Y</td>\n",
              "      <td>N</td>\n",
              "      <td>16815 W VANOWEN ST, 91406</td>\n",
              "      <td>16815.0</td>\n",
              "      <td>W</td>\n",
              "      <td>VANOWEN</td>\n",
              "      <td>ST</td>\n",
              "      <td>91406</td>\n",
              "      <td>34.194028</td>\n",
              "      <td>-118.499472</td>\n",
              "      <td>(34.1940284578, -118.499471638)</td>\n",
              "      <td>531.0</td>\n",
              "      <td>D</td>\n",
              "      <td>6.0</td>\n",
              "      <td>South Valley APC</td>\n",
              "      <td>6.0</td>\n",
              "      <td>Nury Martinez</td>\n",
              "      <td>19.0</td>\n",
              "      <td>LAKE BALBOA NC</td>\n",
              "      <td>WEST VALLEY</td>\n",
              "    </tr>\n",
              "    <tr>\n",
              "      <th>2</th>\n",
              "      <td>1-1523596201</td>\n",
              "      <td>01/01/2020 12:16:00 AM</td>\n",
              "      <td>01/02/2020 03:13:00 PM</td>\n",
              "      <td>SR Created</td>\n",
              "      <td>OCB</td>\n",
              "      <td>Graffiti Removal</td>\n",
              "      <td>Closed</td>\n",
              "      <td>Mobile App</td>\n",
              "      <td>Self Service</td>\n",
              "      <td>Android</td>\n",
              "      <td>N</td>\n",
              "      <td>LACC</td>\n",
              "      <td>01/02/2020 12:00:00 AM</td>\n",
              "      <td>01/02/2020 03:13:00 PM</td>\n",
              "      <td>Y</td>\n",
              "      <td>N</td>\n",
              "      <td>1848 W BROWNING BLVD, 90062</td>\n",
              "      <td>1848.0</td>\n",
              "      <td>W</td>\n",
              "      <td>BROWNING</td>\n",
              "      <td>BLVD</td>\n",
              "      <td>90062</td>\n",
              "      <td>34.011724</td>\n",
              "      <td>-118.312764</td>\n",
              "      <td>(34.0117235893, -118.312764174)</td>\n",
              "      <td>673.0</td>\n",
              "      <td>H</td>\n",
              "      <td>2.0</td>\n",
              "      <td>South Los Angeles APC</td>\n",
              "      <td>8.0</td>\n",
              "      <td>Marqueece Harris-Dawson</td>\n",
              "      <td>77.0</td>\n",
              "      <td>EMPOWERMENT CONGRESS NORTH AREA NDC</td>\n",
              "      <td>SOUTHWEST</td>\n",
              "    </tr>\n",
              "    <tr>\n",
              "      <th>3</th>\n",
              "      <td>1-1523596222</td>\n",
              "      <td>01/01/2020 12:19:00 AM</td>\n",
              "      <td>01/03/2020 07:02:00 AM</td>\n",
              "      <td>SR Created</td>\n",
              "      <td>BOS</td>\n",
              "      <td>Bulky Items</td>\n",
              "      <td>Closed</td>\n",
              "      <td>Mobile App</td>\n",
              "      <td>Self Service</td>\n",
              "      <td>Android</td>\n",
              "      <td>N</td>\n",
              "      <td>NC</td>\n",
              "      <td>01/03/2020 12:00:00 AM</td>\n",
              "      <td>01/03/2020 07:02:00 AM</td>\n",
              "      <td>Y</td>\n",
              "      <td>NaN</td>\n",
              "      <td>132 S WESTMORELAND AVE, 90004</td>\n",
              "      <td>132.0</td>\n",
              "      <td>S</td>\n",
              "      <td>WESTMORELAND</td>\n",
              "      <td>AVE</td>\n",
              "      <td>90004</td>\n",
              "      <td>34.072440</td>\n",
              "      <td>-118.287798</td>\n",
              "      <td>(34.0724397675, -118.287797874)</td>\n",
              "      <td>634.0</td>\n",
              "      <td>A</td>\n",
              "      <td>1.0</td>\n",
              "      <td>Central APC</td>\n",
              "      <td>13.0</td>\n",
              "      <td>Mitch O'Farrell</td>\n",
              "      <td>53.0</td>\n",
              "      <td>RAMPART VILLAGE NC</td>\n",
              "      <td>OLYMPIC</td>\n",
              "    </tr>\n",
              "    <tr>\n",
              "      <th>4</th>\n",
              "      <td>1-1523591123</td>\n",
              "      <td>01/01/2020 12:21:00 AM</td>\n",
              "      <td>01/03/2020 03:54:00 PM</td>\n",
              "      <td>SR Created</td>\n",
              "      <td>BOS</td>\n",
              "      <td>Metal/Household Appliances</td>\n",
              "      <td>Closed</td>\n",
              "      <td>Mobile App</td>\n",
              "      <td>Self Service</td>\n",
              "      <td>Android</td>\n",
              "      <td>N</td>\n",
              "      <td>NC</td>\n",
              "      <td>01/03/2020 12:00:00 AM</td>\n",
              "      <td>01/03/2020 03:54:00 PM</td>\n",
              "      <td>Y</td>\n",
              "      <td>NaN</td>\n",
              "      <td>132 S WESTMORELAND AVE, 90004</td>\n",
              "      <td>132.0</td>\n",
              "      <td>S</td>\n",
              "      <td>WESTMORELAND</td>\n",
              "      <td>AVE</td>\n",
              "      <td>90004</td>\n",
              "      <td>34.072440</td>\n",
              "      <td>-118.287798</td>\n",
              "      <td>(34.0724397675, -118.287797874)</td>\n",
              "      <td>634.0</td>\n",
              "      <td>A</td>\n",
              "      <td>1.0</td>\n",
              "      <td>Central APC</td>\n",
              "      <td>13.0</td>\n",
              "      <td>Mitch O'Farrell</td>\n",
              "      <td>53.0</td>\n",
              "      <td>RAMPART VILLAGE NC</td>\n",
              "      <td>OLYMPIC</td>\n",
              "    </tr>\n",
              "  </tbody>\n",
              "</table>\n",
              "</div>"
            ],
            "text/plain": [
              "       SRNumber  ... PolicePrecinct\n",
              "0  1-1523593381  ...    77TH STREET\n",
              "1  1-1523590121  ...    WEST VALLEY\n",
              "2  1-1523596201  ...      SOUTHWEST\n",
              "3  1-1523596222  ...        OLYMPIC\n",
              "4  1-1523591123  ...        OLYMPIC\n",
              "\n",
              "[5 rows x 34 columns]"
            ]
          },
          "metadata": {
            "tags": []
          },
          "execution_count": 3
        }
      ]
    },
    {
      "cell_type": "code",
      "metadata": {
        "colab": {
          "base_uri": "https://localhost:8080/"
        },
        "id": "GJMGivVI1LER",
        "outputId": "1a8b97be-6e16-4983-e49e-22bc44e8bec9"
      },
      "source": [
        "sources = list(np.unique(df['RequestSource']))\n",
        "counts = []\n",
        "for source in sources:\n",
        "  counts.append(len(df.loc[df['RequestSource']==source]))\n",
        "\n",
        "counts"
      ],
      "execution_count": 7,
      "outputs": [
        {
          "output_type": "execute_result",
          "data": {
            "text/plain": [
              "[670601,\n",
              " 3,\n",
              " 1600,\n",
              " 243312,\n",
              " 3235,\n",
              " 2,\n",
              " 3,\n",
              " 5,\n",
              " 378530,\n",
              " 11,\n",
              " 1,\n",
              " 193801,\n",
              " 37,\n",
              " 2,\n",
              " 337,\n",
              " 279,\n",
              " 13,\n",
              " 1]"
            ]
          },
          "metadata": {
            "tags": []
          },
          "execution_count": 7
        }
      ]
    },
    {
      "cell_type": "code",
      "metadata": {
        "colab": {
          "base_uri": "https://localhost:8080/",
          "height": 778
        },
        "id": "pg7j2Osc57kE",
        "outputId": "78970c75-ff54-40a1-aac0-3d1fb7ca0423"
      },
      "source": [
        "sns.set(rc={'figure.figsize':(30,15)})\n",
        "sns.barplot(sources, counts)"
      ],
      "execution_count": 14,
      "outputs": [
        {
          "output_type": "stream",
          "text": [
            "/usr/local/lib/python3.7/dist-packages/seaborn/_decorators.py:43: FutureWarning: Pass the following variables as keyword args: x, y. From version 0.12, the only valid positional argument will be `data`, and passing other arguments without an explicit keyword will result in an error or misinterpretation.\n",
            "  FutureWarning\n"
          ],
          "name": "stderr"
        },
        {
          "output_type": "execute_result",
          "data": {
            "text/plain": [
              "<matplotlib.axes._subplots.AxesSubplot at 0x7fe2cdcd13d0>"
            ]
          },
          "metadata": {
            "tags": []
          },
          "execution_count": 14
        },
        {
          "output_type": "display_data",
          "data": {
            "image/png": "[encoded data removed]",
            "text/plain": [
              "<Figure size 2160x1080 with 1 Axes>"
            ]
          },
          "metadata": {
            "tags": []
          }
        }
      ]
    },
    {
      "cell_type": "markdown",
      "metadata": {
        "id": "uYu_ieKp7r2B"
      },
      "source": [
        "Conclusion: calls, self reports, the mobile app, and self service are the major sources of requests, with the 15 mediums being extremley rare. Calls are the most common with nearly half the requests being calls."
      ]
    },
    {
      "cell_type": "code",
      "metadata": {
        "colab": {
          "base_uri": "https://localhost:8080/"
        },
        "id": "gl_KPSPY8RHt",
        "outputId": "163474b5-651a-4e1f-96af-f97cf9fece8a"
      },
      "source": [
        "sources"
      ],
      "execution_count": 15,
      "outputs": [
        {
          "output_type": "execute_result",
          "data": {
            "text/plain": [
              "['Call',\n",
              " 'City Attorney',\n",
              " \"Council's Office\",\n",
              " 'Driver Self Report',\n",
              " 'Email',\n",
              " 'Fax',\n",
              " 'Letter',\n",
              " \"Mayor's Office\",\n",
              " 'Mobile App',\n",
              " 'Queue Initiated Customer Call',\n",
              " 'Radio',\n",
              " 'Self Service',\n",
              " 'Social',\n",
              " 'TTY/ NexTalk',\n",
              " 'Twitter',\n",
              " 'Voicemail',\n",
              " 'Walk-in',\n",
              " 'Web Form']"
            ]
          },
          "metadata": {
            "tags": []
          },
          "execution_count": 15
        }
      ]
    }
  ]
}