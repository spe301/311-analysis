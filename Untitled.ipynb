{
 "cells": [
  {
   "cell_type": "markdown",
   "metadata": {},
   "source": [
    "# EDA\n",
    "\n",
    "1. What is the most common Request Type for each Request Source, as well as overall?\n",
    "2. Map out the Homeless Encampment removal requests and look for a pattern, are they less concentrated in the San Fernando Valley and Bel Aire / Beverly Crest than the rest of LA?\n",
    "3. Show us the percentage breakdown of Request Types overall, do this again for Requests that took place within 1/2 mile radius of a school and see if there's any noticeable difference. Also check if the percentage of Anonomys requests is any different.\n",
    "4. What neighborhood council has the highest number of requests in total, What is the percentage breakdown for request source here?"
   ]
  },
  {
   "cell_type": "code",
   "execution_count": null,
   "metadata": {},
   "outputs": [],
   "source": []
  }
 ],
 "metadata": {
  "kernelspec": {
   "display_name": "Python 3",
   "language": "python",
   "name": "python3"
  },
  "language_info": {
   "codemirror_mode": {
    "name": "ipython",
    "version": 3
   },
   "file_extension": ".py",
   "mimetype": "text/x-python",
   "name": "python",
   "nbconvert_exporter": "python",
   "pygments_lexer": "ipython3",
   "version": "3.8.5"
  }
 },
 "nbformat": 4,
 "nbformat_minor": 4
}
