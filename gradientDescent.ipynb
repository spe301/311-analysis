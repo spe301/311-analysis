{
  "nbformat": 4,
  "nbformat_minor": 0,
  "metadata": {
    "colab": {
      "name": "gradientDescent.ipynb",
      "provenance": [],
      "authorship_tag": "ABX9TyNy3sInX0uiQBHbMLPx8nJf",
      "include_colab_link": true
    },
    "kernelspec": {
      "name": "python3",
      "display_name": "Python 3"
    },
    "language_info": {
      "name": "python"
    }
  },
  "cells": [
    {
      "cell_type": "markdown",
      "metadata": {
        "id": "view-in-github",
        "colab_type": "text"
      },
      "source": [
        "<a href=\"https://colab.research.google.com/github/spe301/311-analysis/blob/main/gradientDescent.ipynb\" target=\"_parent\"><img src=\"https://colab.research.google.com/assets/colab-badge.svg\" alt=\"Open In Colab\"/></a>"
      ]
    },
    {
      "cell_type": "code",
      "metadata": {
        "id": "yEfgAZkWpiOz"
      },
      "source": [
        "import pandas as pd\n",
        "from matplotlib import pyplot as plt \n",
        "\n",
        "df = pd.read_csv('https://raw.githubusercontent.com/spe301/dsc-phase-2-project-online/master/data/kc_house_data.csv')"
      ],
      "execution_count": null,
      "outputs": []
    },
    {
      "cell_type": "code",
      "metadata": {
        "id": "xGOPyECyb7oo"
      },
      "source": [
        "x = df['sqft_living']\n",
        "y = df['price']"
      ],
      "execution_count": null,
      "outputs": []
    },
    {
      "cell_type": "code",
      "metadata": {
        "colab": {
          "base_uri": "https://localhost:8080/",
          "height": 293
        },
        "id": "vMFTDEuZcNKF",
        "outputId": "d298ee7e-cad9-4248-e2f6-1fc971d12bb6"
      },
      "source": [
        "plt.scatter(x, y)"
      ],
      "execution_count": null,
      "outputs": [
        {
          "output_type": "execute_result",
          "data": {
            "text/plain": [
              "<matplotlib.collections.PathCollection at 0x7fd3afeeb4d0>"
            ]
          },
          "metadata": {
            "tags": []
          },
          "execution_count": 3
        },
        {
          "output_type": "display_data",
          "data": {
            "image/png": "[encoded data removed]",
            "text/plain": [
              "<Figure size 432x288 with 1 Axes>"
            ]
          },
          "metadata": {
            "tags": [],
            "needs_background": "light"
          }
        }
      ]
    },
    {
      "cell_type": "code",
      "metadata": {
        "id": "F8ADLVEdcYef"
      },
      "source": [
        "m = 500\n",
        "b = 50000"
      ],
      "execution_count": null,
      "outputs": []
    },
    {
      "cell_type": "code",
      "metadata": {
        "colab": {
          "base_uri": "https://localhost:8080/"
        },
        "id": "l-eqvLwDcswm",
        "outputId": "3950c99f-cfc2-455d-bdc2-1cecd9b5c34b"
      },
      "source": [
        "def error(x, y, b, m):\n",
        "  n = len(x)\n",
        "  error = 0\n",
        "  for i in range(n):\n",
        "    yhat = (m*x[i]) + b\n",
        "    error += abs(yhat - y[i])/n # We incrementally increase error, we use abs so that negatives and positives don't cancel out\n",
        "  return error\n",
        "\n",
        "error(x, y, b, m)"
      ],
      "execution_count": null,
      "outputs": [
        {
          "output_type": "execute_result",
          "data": {
            "text/plain": [
              "561804.9508728054"
            ]
          },
          "metadata": {
            "tags": []
          },
          "execution_count": 5
        }
      ]
    },
    {
      "cell_type": "code",
      "metadata": {
        "id": "rtVxQmP5dFBA"
      },
      "source": [
        "def step(x, y, b, m, alpha):\n",
        "  derivB = b\n",
        "  derivM = m\n",
        "  n = len(x)\n",
        "  for i in range(n):\n",
        "    derivB += (-2/n) * (y[i] - ((m*x[i]) + b)) # -2/n times error\n",
        "    derivM += (-2/n) * x[i] * (y[i] - ((m*x[i]) + b)) # -2/n times x times error\n",
        "  newB = b - (derivB * alpha)\n",
        "  newM = m - (derivM * alpha)\n",
        "  return [newB, newM]"
      ],
      "execution_count": null,
      "outputs": []
    },
    {
      "cell_type": "code",
      "metadata": {
        "colab": {
          "base_uri": "https://localhost:8080/"
        },
        "id": "wU_SGtm_f2PS",
        "outputId": "c21cee25-7d4b-4df1-af22-6645914c989c"
      },
      "source": [
        "step(x, y, b, m, 0.000000001)"
      ],
      "execution_count": null,
      "outputs": [
        {
          "output_type": "execute_result",
          "data": {
            "text/plain": [
              "[49999.998850271295, 497.342797559985]"
            ]
          },
          "metadata": {
            "tags": []
          },
          "execution_count": 7
        }
      ]
    },
    {
      "cell_type": "code",
      "metadata": {
        "id": "GeSHWV86RO1a"
      },
      "source": [
        "alpha = 1e-9"
      ],
      "execution_count": null,
      "outputs": []
    },
    {
      "cell_type": "code",
      "metadata": {
        "id": "-VM5XjqlWKRh"
      },
      "source": [
        "def gradientDescent(x, y, b, m, alpha, steps):\n",
        "  b = b\n",
        "  m = m\n",
        "  results = {'beta': [], 'slope': [], 'error': []} #store these values in a dictionary for a neater output\n",
        "  for i in range(steps):\n",
        "    b, m = step(x, y, b, m, alpha)\n",
        "    results['beta'].append(b)\n",
        "    results['slope'].append(m)\n",
        "    results['error'].append(error(x, y, b, m))\n",
        "  return results\n"
      ],
      "execution_count": null,
      "outputs": []
    },
    {
      "cell_type": "code",
      "metadata": {
        "colab": {
          "base_uri": "https://localhost:8080/",
          "height": 417
        },
        "id": "DElwC659aNrn",
        "outputId": "ae1fbd99-46d1-402a-b1e7-46fae154c3ee"
      },
      "source": [
        "results = pd.DataFrame(gradientDescent(x, y, b, m, alpha, 1000))\n",
        "\n",
        "results"
      ],
      "execution_count": null,
      "outputs": [
        {
          "output_type": "execute_result",
          "data": {
            "text/html": [
              "<div>\n",
              "<style scoped>\n",
              "    .dataframe tbody tr th:only-of-type {\n",
              "        vertical-align: middle;\n",
              "    }\n",
              "\n",
              "    .dataframe tbody tr th {\n",
              "        vertical-align: top;\n",
              "    }\n",
              "\n",
              "    .dataframe thead th {\n",
              "        text-align: right;\n",
              "    }\n",
              "</style>\n",
              "<table border=\"1\" class=\"dataframe\">\n",
              "  <thead>\n",
              "    <tr style=\"text-align: right;\">\n",
              "      <th></th>\n",
              "      <th>beta</th>\n",
              "      <th>slope</th>\n",
              "      <th>error</th>\n",
              "    </tr>\n",
              "  </thead>\n",
              "  <tbody>\n",
              "    <tr>\n",
              "      <th>0</th>\n",
              "      <td>49999.998850</td>\n",
              "      <td>497.342798</td>\n",
              "      <td>556619.197989</td>\n",
              "    </tr>\n",
              "    <tr>\n",
              "      <th>1</th>\n",
              "      <td>49999.997712</td>\n",
              "      <td>494.713074</td>\n",
              "      <td>551494.033680</td>\n",
              "    </tr>\n",
              "    <tr>\n",
              "      <th>2</th>\n",
              "      <td>49999.996584</td>\n",
              "      <td>492.110545</td>\n",
              "      <td>546429.033551</td>\n",
              "    </tr>\n",
              "    <tr>\n",
              "      <th>3</th>\n",
              "      <td>49999.995467</td>\n",
              "      <td>489.534929</td>\n",
              "      <td>541423.573428</td>\n",
              "    </tr>\n",
              "    <tr>\n",
              "      <th>4</th>\n",
              "      <td>49999.994361</td>\n",
              "      <td>486.985949</td>\n",
              "      <td>536478.796047</td>\n",
              "    </tr>\n",
              "    <tr>\n",
              "      <th>...</th>\n",
              "      <td>...</td>\n",
              "      <td>...</td>\n",
              "      <td>...</td>\n",
              "    </tr>\n",
              "    <tr>\n",
              "      <th>995</th>\n",
              "      <td>49999.816302</td>\n",
              "      <td>243.056216</td>\n",
              "      <td>172552.739450</td>\n",
              "    </tr>\n",
              "    <tr>\n",
              "      <th>996</th>\n",
              "      <td>49999.816222</td>\n",
              "      <td>243.056131</td>\n",
              "      <td>172552.700873</td>\n",
              "    </tr>\n",
              "    <tr>\n",
              "      <th>997</th>\n",
              "      <td>49999.816141</td>\n",
              "      <td>243.056047</td>\n",
              "      <td>172552.662696</td>\n",
              "    </tr>\n",
              "    <tr>\n",
              "      <th>998</th>\n",
              "      <td>49999.816060</td>\n",
              "      <td>243.055964</td>\n",
              "      <td>172552.624913</td>\n",
              "    </tr>\n",
              "    <tr>\n",
              "      <th>999</th>\n",
              "      <td>49999.815980</td>\n",
              "      <td>243.055882</td>\n",
              "      <td>172552.587521</td>\n",
              "    </tr>\n",
              "  </tbody>\n",
              "</table>\n",
              "<p>1000 rows × 3 columns</p>\n",
              "</div>"
            ],
            "text/plain": [
              "             beta       slope          error\n",
              "0    49999.998850  497.342798  556619.197989\n",
              "1    49999.997712  494.713074  551494.033680\n",
              "2    49999.996584  492.110545  546429.033551\n",
              "3    49999.995467  489.534929  541423.573428\n",
              "4    49999.994361  486.985949  536478.796047\n",
              "..            ...         ...            ...\n",
              "995  49999.816302  243.056216  172552.739450\n",
              "996  49999.816222  243.056131  172552.700873\n",
              "997  49999.816141  243.056047  172552.662696\n",
              "998  49999.816060  243.055964  172552.624913\n",
              "999  49999.815980  243.055882  172552.587521\n",
              "\n",
              "[1000 rows x 3 columns]"
            ]
          },
          "metadata": {
            "tags": []
          },
          "execution_count": 13
        }
      ]
    },
    {
      "cell_type": "code",
      "metadata": {
        "colab": {
          "base_uri": "https://localhost:8080/",
          "height": 80
        },
        "id": "vVwBz1pXehgJ",
        "outputId": "aec84894-b291-4c6d-b730-2657dae77909"
      },
      "source": [
        "results.loc[results['error'] == min(results['error'])]"
      ],
      "execution_count": null,
      "outputs": [
        {
          "output_type": "execute_result",
          "data": {
            "text/html": [
              "<div>\n",
              "<style scoped>\n",
              "    .dataframe tbody tr th:only-of-type {\n",
              "        vertical-align: middle;\n",
              "    }\n",
              "\n",
              "    .dataframe tbody tr th {\n",
              "        vertical-align: top;\n",
              "    }\n",
              "\n",
              "    .dataframe thead th {\n",
              "        text-align: right;\n",
              "    }\n",
              "</style>\n",
              "<table border=\"1\" class=\"dataframe\">\n",
              "  <thead>\n",
              "    <tr style=\"text-align: right;\">\n",
              "      <th></th>\n",
              "      <th>beta</th>\n",
              "      <th>slope</th>\n",
              "      <th>error</th>\n",
              "    </tr>\n",
              "  </thead>\n",
              "  <tbody>\n",
              "    <tr>\n",
              "      <th>999</th>\n",
              "      <td>49999.81598</td>\n",
              "      <td>243.055882</td>\n",
              "      <td>172552.587521</td>\n",
              "    </tr>\n",
              "  </tbody>\n",
              "</table>\n",
              "</div>"
            ],
            "text/plain": [
              "            beta       slope          error\n",
              "999  49999.81598  243.055882  172552.587521"
            ]
          },
          "metadata": {
            "tags": []
          },
          "execution_count": 14
        }
      ]
    }
  ]
}